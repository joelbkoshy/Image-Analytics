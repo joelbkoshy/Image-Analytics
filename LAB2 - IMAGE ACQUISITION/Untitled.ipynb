{
 "cells": [
  {
   "cell_type": "code",
   "execution_count": 1,
   "id": "f9d4d1f5",
   "metadata": {},
   "outputs": [],
   "source": [
    "import cv2\n",
    "image=cv2.imread('brain_scan.jpeg')"
   ]
  },
  {
   "cell_type": "code",
   "execution_count": 2,
   "id": "6f258aa1",
   "metadata": {},
   "outputs": [
    {
     "data": {
      "text/plain": [
       "array([[[4, 4, 4],\n",
       "        [4, 4, 4],\n",
       "        [4, 4, 4],\n",
       "        ...,\n",
       "        [3, 3, 3],\n",
       "        [3, 3, 3],\n",
       "        [3, 3, 3]],\n",
       "\n",
       "       [[4, 4, 4],\n",
       "        [4, 4, 4],\n",
       "        [4, 4, 4],\n",
       "        ...,\n",
       "        [4, 4, 4],\n",
       "        [4, 4, 4],\n",
       "        [4, 4, 4]],\n",
       "\n",
       "       [[5, 5, 5],\n",
       "        [5, 5, 5],\n",
       "        [5, 5, 5],\n",
       "        ...,\n",
       "        [5, 5, 5],\n",
       "        [5, 5, 5],\n",
       "        [5, 5, 5]],\n",
       "\n",
       "       ...,\n",
       "\n",
       "       [[5, 5, 5],\n",
       "        [5, 5, 5],\n",
       "        [5, 5, 5],\n",
       "        ...,\n",
       "        [5, 5, 5],\n",
       "        [5, 5, 5],\n",
       "        [5, 5, 5]],\n",
       "\n",
       "       [[5, 5, 5],\n",
       "        [5, 5, 5],\n",
       "        [5, 5, 5],\n",
       "        ...,\n",
       "        [4, 4, 4],\n",
       "        [4, 4, 4],\n",
       "        [4, 4, 4]],\n",
       "\n",
       "       [[5, 5, 5],\n",
       "        [5, 5, 5],\n",
       "        [5, 5, 5],\n",
       "        ...,\n",
       "        [4, 4, 4],\n",
       "        [4, 4, 4],\n",
       "        [4, 4, 4]]], dtype=uint8)"
      ]
     },
     "execution_count": 2,
     "metadata": {},
     "output_type": "execute_result"
    }
   ],
   "source": [
    "# Add mission information as text to the image\n",
    "mission_info = \"Mission information here\"\n",
    "cv2.putText(image, mission_info, (10, 30), cv2.FONT_HERSHEY_SIMPLEX, 1, (255, 255, 255), 2, cv2.LINE_AA)"
   ]
  },
  {
   "cell_type": "code",
   "execution_count": 3,
   "id": "bf8c620c",
   "metadata": {},
   "outputs": [],
   "source": [
    "import numpy as np\n",
    "\n",
    "# Create Gaussian noise\n",
    "noise = np.random.normal(0, 25, image.shape).astype(np.uint8)\n",
    "\n",
    "# Add noise to the image\n",
    "noisy_image = cv2.add(image, noise)\n"
   ]
  },
  {
   "cell_type": "code",
   "execution_count": 4,
   "id": "d06ebafb",
   "metadata": {},
   "outputs": [
    {
     "ename": "ModuleNotFoundError",
     "evalue": "No module named 'google.colab'",
     "output_type": "error",
     "traceback": [
      "\u001b[1;31m---------------------------------------------------------------------------\u001b[0m",
      "\u001b[1;31mModuleNotFoundError\u001b[0m                       Traceback (most recent call last)",
      "Cell \u001b[1;32mIn[4], line 3\u001b[0m\n\u001b[0;32m      1\u001b[0m \u001b[38;5;66;03m# Import the necessary libraries\u001b[39;00m\n\u001b[0;32m      2\u001b[0m \u001b[38;5;28;01mimport\u001b[39;00m \u001b[38;5;21;01mcv2\u001b[39;00m\n\u001b[1;32m----> 3\u001b[0m \u001b[38;5;28;01mfrom\u001b[39;00m \u001b[38;5;21;01mgoogle\u001b[39;00m\u001b[38;5;21;01m.\u001b[39;00m\u001b[38;5;21;01mcolab\u001b[39;00m\u001b[38;5;21;01m.\u001b[39;00m\u001b[38;5;21;01mpatches\u001b[39;00m \u001b[38;5;28;01mimport\u001b[39;00m cv2_imshow\n\u001b[0;32m      5\u001b[0m \u001b[38;5;66;03m# Load an image\u001b[39;00m\n\u001b[0;32m      6\u001b[0m image \u001b[38;5;241m=\u001b[39m cv2\u001b[38;5;241m.\u001b[39mimread(\u001b[38;5;124m'\u001b[39m\u001b[38;5;124m/content/lab2.jpeg\u001b[39m\u001b[38;5;124m'\u001b[39m)\n",
      "\u001b[1;31mModuleNotFoundError\u001b[0m: No module named 'google.colab'"
     ]
    }
   ],
   "source": [
    "# Import the necessary libraries\n",
    "import cv2\n",
    "from google.colab.patches import cv2_imshow\n",
    "\n",
    "# Load an image\n",
    "image = cv2.imread('/content/lab2.jpeg')\n",
    "\n",
    "# Add mission information as text to the image\n",
    "mission_info = \"Hello from me\"\n",
    "cv2.putText(image, mission_info, (10, 30), cv2.FONT_HERSHEY_SIMPLEX, 1, (255, 255, 255), 2, cv2.LINE_AA)\n",
    "\n",
    "# Create Gaussian noise\n",
    "noise = np.random.normal(0, 25, image.shape).astype(np.uint8)\n",
    "\n",
    "# Add noise to the image\n",
    "noisy_image = cv2.add(image, noise)\n",
    "\n",
    "# Denoise the image using OpenCV's fastNlMeansDenoisingColored\n",
    "denoised_image = cv2.fastNlMeansDenoisingColored(noisy_image, None, 10, 10, 7, 21)\n",
    "\n",
    "# Display the denoised image\n",
    "cv2_imshow(denoised_image)\n"
   ]
  },
  {
   "cell_type": "code",
   "execution_count": null,
   "id": "ebeac5e3",
   "metadata": {},
   "outputs": [],
   "source": []
  }
 ],
 "metadata": {
  "kernelspec": {
   "display_name": "Python 3 (ipykernel)",
   "language": "python",
   "name": "python3"
  },
  "language_info": {
   "codemirror_mode": {
    "name": "ipython",
    "version": 3
   },
   "file_extension": ".py",
   "mimetype": "text/x-python",
   "name": "python",
   "nbconvert_exporter": "python",
   "pygments_lexer": "ipython3",
   "version": "3.10.11"
  }
 },
 "nbformat": 4,
 "nbformat_minor": 5
}
