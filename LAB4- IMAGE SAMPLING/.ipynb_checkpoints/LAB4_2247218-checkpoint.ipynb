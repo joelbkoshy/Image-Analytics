{
 "cells": [
  {
   "cell_type": "code",
   "execution_count": 1,
   "metadata": {
    "colab": {
     "base_uri": "https://localhost:8080/"
    },
    "id": "1qBztRBvl2aa",
    "outputId": "28a04268-4273-4128-f996-75bc911aca3e"
   },
   "outputs": [
    {
     "name": "stdout",
     "output_type": "stream",
     "text": [
      "Requirement already satisfied: opencv-python in c:\\users\\joelb\\appdata\\local\\packages\\pythonsoftwarefoundation.python.3.10_qbz5n2kfra8p0\\localcache\\local-packages\\python310\\site-packages (4.8.0.76)Note: you may need to restart the kernel to use updated packages.\n",
      "\n",
      "Requirement already satisfied: numpy>=1.21.2 in c:\\users\\joelb\\appdata\\local\\packages\\pythonsoftwarefoundation.python.3.10_qbz5n2kfra8p0\\localcache\\local-packages\\python310\\site-packages (from opencv-python) (1.24.2)\n"
     ]
    }
   ],
   "source": [
    "pip install opencv-python\n"
   ]
  },
  {
   "cell_type": "code",
   "execution_count": 2,
   "metadata": {
    "id": "KqB4RMOhmBWy"
   },
   "outputs": [
    {
     "ename": "ModuleNotFoundError",
     "evalue": "No module named 'google.colab'",
     "output_type": "error",
     "traceback": [
      "\u001b[1;31m---------------------------------------------------------------------------\u001b[0m",
      "\u001b[1;31mModuleNotFoundError\u001b[0m                       Traceback (most recent call last)",
      "Cell \u001b[1;32mIn[2], line 3\u001b[0m\n\u001b[0;32m      1\u001b[0m \u001b[38;5;28;01mimport\u001b[39;00m \u001b[38;5;21;01mcv2\u001b[39;00m\n\u001b[0;32m      2\u001b[0m \u001b[38;5;28;01mimport\u001b[39;00m \u001b[38;5;21;01mnumpy\u001b[39;00m \u001b[38;5;28;01mas\u001b[39;00m \u001b[38;5;21;01mnp\u001b[39;00m\n\u001b[1;32m----> 3\u001b[0m \u001b[38;5;28;01mfrom\u001b[39;00m \u001b[38;5;21;01mgoogle\u001b[39;00m\u001b[38;5;21;01m.\u001b[39;00m\u001b[38;5;21;01mcolab\u001b[39;00m\u001b[38;5;21;01m.\u001b[39;00m\u001b[38;5;21;01mpatches\u001b[39;00m \u001b[38;5;28;01mimport\u001b[39;00m cv2_imshow\n\u001b[0;32m      5\u001b[0m \u001b[38;5;28;01mdef\u001b[39;00m \u001b[38;5;21mresize_nearest_neighbor\u001b[39m(image, scale):\n\u001b[0;32m      6\u001b[0m     height, width \u001b[38;5;241m=\u001b[39m image\u001b[38;5;241m.\u001b[39mshape[:\u001b[38;5;241m2\u001b[39m]\n",
      "\u001b[1;31mModuleNotFoundError\u001b[0m: No module named 'google.colab'"
     ]
    }
   ],
   "source": [
    "import cv2\n",
    "import numpy as np\n",
    "from google.colab.patches import cv2_imshow\n",
    "\n",
    "def resize_nearest_neighbor(image, scale):\n",
    "    height, width = image.shape[:2]\n",
    "    new_height = int(height * scale)\n",
    "    new_width = int(width * scale)\n",
    "    resized_image = cv2.resize(image, (new_width, new_height), interpolation=cv2.INTER_NEAREST)\n",
    "    return resized_image\n",
    "\n",
    "def resize_bilinear(image, scale):\n",
    "    height, width = image.shape[:2]\n",
    "    new_height = int(height * scale)\n",
    "    new_width = int(width * scale)\n",
    "    resized_image = cv2.resize(image, (new_width, new_height), interpolation=cv2.INTER_LINEAR)\n",
    "    return resized_image\n",
    "\n",
    "# Load two images (replace with your image filenames)\n",
    "image1 = cv2.imread('image1.jpg')\n",
    "image2 = cv2.imread('image2.jpg')\n",
    "\n",
    "# Check if images are loaded successfully\n",
    "if image1 is None or image2 is None:\n",
    "    print(\"Error: Unable to load images.\")\n",
    "    exit()\n",
    "\n",
    "# Specify the scaling factor for image sampling\n",
    "scale_factor = 0.2  # Change this value as needed\n",
    "\n",
    "# Perform image sampling using nearest neighbor interpolation\n",
    "resized_image1_nearest = resize_nearest_neighbor(image1, scale_factor)\n",
    "resized_image2_nearest = resize_nearest_neighbor(image2, scale_factor)\n",
    "\n",
    "# Perform image sampling using bilinear interpolation\n",
    "resized_image1_bilinear = resize_bilinear(image1, scale_factor)\n",
    "resized_image2_bilinear = resize_bilinear(image2, scale_factor)\n",
    "\n",
    "\n",
    "\n",
    "\n"
   ]
  },
  {
   "cell_type": "code",
   "execution_count": null,
   "metadata": {
    "colab": {
     "base_uri": "https://localhost:8080/",
     "height": 1000
    },
    "id": "SIK5G1VzmNvA",
    "outputId": "1ee20901-c630-49bb-9c02-3cb0b070d980"
   },
   "outputs": [],
   "source": [
    "cv2_imshow(image1)\n"
   ]
  },
  {
   "cell_type": "code",
   "execution_count": null,
   "metadata": {
    "colab": {
     "base_uri": "https://localhost:8080/",
     "height": 221
    },
    "id": "XDhwFB3Poycb",
    "outputId": "0c661928-a5d4-4fdd-9eda-dae445974c49"
   },
   "outputs": [],
   "source": [
    "cv2_imshow(resized_image1_nearest)\n"
   ]
  },
  {
   "cell_type": "code",
   "execution_count": null,
   "metadata": {
    "colab": {
     "base_uri": "https://localhost:8080/",
     "height": 221
    },
    "id": "npheab51oyRA",
    "outputId": "437c84c2-5a30-406e-a6e8-7d99af83c0ce"
   },
   "outputs": [],
   "source": [
    "cv2_imshow(resized_image1_bilinear)"
   ]
  },
  {
   "cell_type": "code",
   "execution_count": null,
   "metadata": {
    "colab": {
     "base_uri": "https://localhost:8080/",
     "height": 1000
    },
    "id": "vMfI4JfEof2b",
    "outputId": "bd1a1914-550f-4821-c904-55b6eeadfdd0"
   },
   "outputs": [],
   "source": [
    "# Display the original and resized images for image 2\n",
    "cv2_imshow(image2)\n"
   ]
  },
  {
   "cell_type": "code",
   "execution_count": null,
   "metadata": {
    "colab": {
     "base_uri": "https://localhost:8080/",
     "height": 221
    },
    "id": "LCrHEg54ogX9",
    "outputId": "d04b2a65-604c-434e-e68f-03eb9625815f"
   },
   "outputs": [],
   "source": [
    "cv2_imshow(resized_image2_nearest)\n"
   ]
  },
  {
   "cell_type": "code",
   "execution_count": null,
   "metadata": {
    "colab": {
     "base_uri": "https://localhost:8080/",
     "height": 221
    },
    "id": "zNYxMHIjouIA",
    "outputId": "933a64ae-bf1a-46ad-8817-52f84bb69697"
   },
   "outputs": [],
   "source": [
    "cv2_imshow(resized_image2_bilinear)"
   ]
  },
  {
   "cell_type": "code",
   "execution_count": null,
   "metadata": {
    "id": "S2c7m754outj"
   },
   "outputs": [],
   "source": []
  },
  {
   "cell_type": "code",
   "execution_count": null,
   "metadata": {},
   "outputs": [],
   "source": []
  },
  {
   "cell_type": "code",
   "execution_count": null,
   "metadata": {},
   "outputs": [],
   "source": []
  }
 ],
 "metadata": {
  "colab": {
   "provenance": []
  },
  "kernelspec": {
   "display_name": "Python 3 (ipykernel)",
   "language": "python",
   "name": "python3"
  },
  "language_info": {
   "codemirror_mode": {
    "name": "ipython",
    "version": 3
   },
   "file_extension": ".py",
   "mimetype": "text/x-python",
   "name": "python",
   "nbconvert_exporter": "python",
   "pygments_lexer": "ipython3",
   "version": "3.10.11"
  }
 },
 "nbformat": 4,
 "nbformat_minor": 1
}
